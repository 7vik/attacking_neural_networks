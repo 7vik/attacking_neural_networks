{
  "nbformat": 4,
  "nbformat_minor": 0,
  "metadata": {
    "colab": {
      "name": "multiplication_pytorch.ipynb",
      "version": "0.3.2",
      "provenance": [],
      "collapsed_sections": []
    },
    "kernelspec": {
      "name": "python3",
      "display_name": "Python 3"
    },
    "accelerator": "GPU"
  },
  "cells": [
    {
      "cell_type": "markdown",
      "metadata": {
        "id": "aBkYLAC65D8h",
        "colab_type": "text"
      },
      "source": [
        "We will try to teach multiplication to a small neural network (just one hidden layer)."
      ]
    },
    {
      "cell_type": "code",
      "metadata": {
        "id": "XWzKS98L4nWE",
        "colab_type": "code",
        "colab": {}
      },
      "source": [
        "import random\n",
        "import numpy as np"
      ],
      "execution_count": 0,
      "outputs": []
    },
    {
      "cell_type": "code",
      "metadata": {
        "id": "3aDT6s3h5cvr",
        "colab_type": "code",
        "outputId": "b6d5fed1-ff7a-4a6c-cc34-02c70ef6cee9",
        "colab": {
          "base_uri": "https://localhost:8080/",
          "height": 68
        }
      },
      "source": [
        "# creating multiplicand, multiplier and product arrays\n",
        "TEST_SIZE = 10\n",
        "TRAIN_SIZE = 10000\n",
        "\n",
        "multiplicand_train = 10 * np.random.rand(1,TRAIN_SIZE)\n",
        "multiplier_train = 10 * np.random.rand(1,TRAIN_SIZE)\n",
        "product_train = multiplicand_train * multiplier_train\n",
        "\n",
        "multiplicand_test = 10 * np.random.rand(1,TEST_SIZE)\n",
        "multiplier_test = 10 * np.random.rand(1,TEST_SIZE)\n",
        "product_test = multiplicand_test * multiplier_test\n",
        "\n",
        "for i in range(3):\n",
        "  print(f\"{multiplicand_test[0][i]} times {multiplier_test[0][i]} equals {product_test[0][i]}\")"
      ],
      "execution_count": 2,
      "outputs": [
        {
          "output_type": "stream",
          "text": [
            "5.50366351719666 times 4.732794263324159 equals 26.047707121454817\n",
            "8.949004076590128 times 9.31640425842832 equals 83.37253968783668\n",
            "3.3598945726200755 times 4.730095500305312 equals 15.892622199450459\n"
          ],
          "name": "stdout"
        }
      ]
    },
    {
      "cell_type": "code",
      "metadata": {
        "id": "fE_s8xYPpK1f",
        "colab_type": "code",
        "colab": {}
      },
      "source": [
        "import torch\n",
        "\n",
        "#creating tensors\n",
        "X1_train = torch.from_numpy(multiplicand_train)\n",
        "X2_train = torch.from_numpy(multiplier_train)\n",
        "Y_train = torch.from_numpy(product_train)\n",
        "X1_test = torch.from_numpy(multiplicand_test)\n",
        "X2_test = torch.from_numpy(multiplier_test)\n",
        "Y_test = torch.from_numpy(product_test)"
      ],
      "execution_count": 0,
      "outputs": []
    },
    {
      "cell_type": "code",
      "metadata": {
        "id": "WXbJXTKasDrt",
        "colab_type": "code",
        "outputId": "f5ddda4b-80de-42b1-fb28-1c2810eefe99",
        "colab": {
          "base_uri": "https://localhost:8080/",
          "height": 34
        }
      },
      "source": [
        "Y_train.shape"
      ],
      "execution_count": 6,
      "outputs": [
        {
          "output_type": "execute_result",
          "data": {
            "text/plain": [
              "torch.Size([1, 10000])"
            ]
          },
          "metadata": {
            "tags": []
          },
          "execution_count": 6
        }
      ]
    },
    {
      "cell_type": "code",
      "metadata": {
        "id": "E-hqZd_AsHFN",
        "colab_type": "code",
        "colab": {
          "base_uri": "https://localhost:8080/",
          "height": 153
        },
        "outputId": "c7e8d632-30f4-46d0-b5ed-7aa56e6be4d9"
      },
      "source": [
        "from torch import nn\n",
        "\n",
        "multiNet = nn.Sequential(nn.Linear(2,100),\n",
        "                         nn.ReLU(),\n",
        "                         nn.Linear(100,1),\n",
        "                         nn.ReLU())\n",
        "\n",
        "crit = nn.MSELoss()\n",
        "opt = torch.optim.Adam(multiNet.parameters(), lr=0.002)\n",
        "\n",
        "epochs = 6\n",
        "X_train = torch.cat((X1_train, X2_train), 0)\n",
        "X_train = X_train.float().transpose(0,1)\n",
        "Y_train = Y_train.float().transpose(0,1)\n",
        "\n",
        "print(X_train.shape)\n",
        "print(Y_train.shape)\n",
        "\n",
        "losses = []\n",
        "\n",
        "for e in range(epochs):\n",
        "  running_loss = 0\n",
        "  i = 0\n",
        "  for pair in X_train:\n",
        "    opt.zero_grad()\n",
        "    output = multiNet(pair)\n",
        "    loss = crit(output, Y_train[i])\n",
        "    loss.backward()\n",
        "    opt.step()\n",
        "    running_loss += loss.item()\n",
        "    i += 1\n",
        "  print(f\"Epoch {e}: Training loss: {running_loss/TRAIN_SIZE}\")\n",
        "  losses.append(running_loss/TRAIN_SIZE)"
      ],
      "execution_count": 14,
      "outputs": [
        {
          "output_type": "stream",
          "text": [
            "torch.Size([10000, 2])\n",
            "torch.Size([10000, 1])\n",
            "Epoch 0: Training loss: 21.728402267179078\n",
            "Epoch 1: Training loss: 6.574151484518882\n",
            "Epoch 2: Training loss: 1.9587684036746003\n",
            "Epoch 3: Training loss: 0.8469378554450541\n",
            "Epoch 4: Training loss: 0.6123102133068695\n",
            "Epoch 5: Training loss: 0.49686305002745285\n"
          ],
          "name": "stdout"
        }
      ]
    },
    {
      "cell_type": "code",
      "metadata": {
        "id": "rxmFJIHCs59l",
        "colab_type": "code",
        "colab": {
          "base_uri": "https://localhost:8080/",
          "height": 204
        },
        "outputId": "13d28660-5787-4a87-a1d3-960c77a7f20f"
      },
      "source": [
        "X_test = torch.cat((X1_test, X2_test), 0)\n",
        "X_test = X_test.float().transpose(0,1)\n",
        "Y_test = Y_test.float().transpose(1,0)\n",
        "print(Y_test.shape)\n",
        "\n",
        "i=0\n",
        "for pair in X_test:\n",
        "    out = multiNet(pair)\n",
        "    print(f\"Actual Product: {Y_test[0][i]} Predicted Product: {out.item()}\")\n",
        "    i += 1"
      ],
      "execution_count": 16,
      "outputs": [
        {
          "output_type": "stream",
          "text": [
            "torch.Size([1, 10])\n",
            "Actual Product: 26.047706604003906 Predicted Product: 24.91175651550293\n",
            "Actual Product: 83.37254333496094 Predicted Product: 83.05851745605469\n",
            "Actual Product: 15.892621994018555 Predicted Product: 15.934247970581055\n",
            "Actual Product: 20.44977378845215 Predicted Product: 19.785520553588867\n",
            "Actual Product: 22.613311767578125 Predicted Product: 22.297576904296875\n",
            "Actual Product: 83.5197525024414 Predicted Product: 82.44800567626953\n",
            "Actual Product: 28.531227111816406 Predicted Product: 27.604650497436523\n",
            "Actual Product: 2.322476625442505 Predicted Product: 2.3064815998077393\n",
            "Actual Product: 63.026123046875 Predicted Product: 63.277732849121094\n",
            "Actual Product: 2.175529718399048 Predicted Product: 1.8379185199737549\n"
          ],
          "name": "stdout"
        }
      ]
    },
    {
      "cell_type": "code",
      "metadata": {
        "id": "RNRxFKGh2pVz",
        "colab_type": "code",
        "colab": {
          "base_uri": "https://localhost:8080/",
          "height": 284
        },
        "outputId": "da66426d-ec6a-49a2-c6fa-d3b489ca1e49"
      },
      "source": [
        "%matplotlib inline\n",
        "%config InlineBackend.figure_format = 'retina'\n",
        "import matplotlib.pyplot as plt\n",
        "\n",
        "plt.plot(losses, label='Training loss')"
      ],
      "execution_count": 17,
      "outputs": [
        {
          "output_type": "execute_result",
          "data": {
            "text/plain": [
              "[<matplotlib.lines.Line2D at 0x7fb8141da208>]"
            ]
          },
          "metadata": {
            "tags": []
          },
          "execution_count": 17
        },
        {
          "output_type": "display_data",
          "data": {
            "image/png": "[encoded data removed]",
            "text/plain": [
              "<Figure size 432x288 with 1 Axes>"
            ]
          },
          "metadata": {
            "tags": [],
            "image/png": {
              "width": 370,
              "height": 250
            }
          }
        }
      ]
    }
  ]
}